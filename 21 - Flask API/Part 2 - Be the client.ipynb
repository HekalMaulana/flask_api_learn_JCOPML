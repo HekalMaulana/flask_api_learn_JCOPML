{
 "cells": [
  {
   "cell_type": "code",
   "execution_count": 1,
   "metadata": {},
   "outputs": [],
   "source": [
    "import pandas as pd\n",
    "import requests"
   ]
  },
  {
   "cell_type": "markdown",
   "metadata": {},
   "source": [
    "Berikut beberapa API gratis yang bisa kita pakai untuk belajar :\n",
    "- [Joke API](https://github.com/15Dkatz/official_joke_api)\n",
    "    - random joke : `https://official-joke-api.appspot.com/jokes/random`\n",
    "    - 10 random joke : `https://official-joke-api.appspot.com/jokes/ten`\n",
    "- [Name2Gender API](https://genderize.io)\n",
    "    - input nama : `https://api.genderize.io?name=peter`\n",
    "    - input negara : `https://api.genderize.io?name=peter&country_id=US`\n",
    "- [public Holiday PI](https://date.nager.at/Api)\n",
    "-[xkcd comic API](https://xkcd.com/json.html)\n",
    "    - comic terbaru : `https://xkcd.com/info.0.json`\n",
    "    - comic ke 614 : `https://xkcd.com/614/info.0.json`"
   ]
  },
  {
   "cell_type": "markdown",
   "metadata": {},
   "source": [
    "# Get Request With Python"
   ]
  },
  {
   "cell_type": "code",
   "execution_count": 10,
   "metadata": {},
   "outputs": [],
   "source": [
    "r = requests.get(url=\"https://official-joke-api.appspot.com/jokes/random\")"
   ]
  },
  {
   "cell_type": "code",
   "execution_count": 12,
   "metadata": {},
   "outputs": [
    {
     "data": {
      "text/plain": [
       "200"
      ]
     },
     "execution_count": 12,
     "metadata": {},
     "output_type": "execute_result"
    }
   ],
   "source": [
    "r.status_code"
   ]
  },
  {
   "cell_type": "code",
   "execution_count": 11,
   "metadata": {},
   "outputs": [
    {
     "data": {
      "text/plain": [
       "'{\"type\":\"general\",\"setup\":\"What do you call a droid that takes the long way around?\",\"punchline\":\"R2 detour.\",\"id\":204}'"
      ]
     },
     "execution_count": 11,
     "metadata": {},
     "output_type": "execute_result"
    }
   ],
   "source": [
    "r.text"
   ]
  },
  {
   "cell_type": "code",
   "execution_count": 14,
   "metadata": {},
   "outputs": [
    {
     "data": {
      "text/plain": [
       "{'type': 'general',\n",
       " 'setup': 'What do you call a droid that takes the long way around?',\n",
       " 'punchline': 'R2 detour.',\n",
       " 'id': 204}"
      ]
     },
     "execution_count": 14,
     "metadata": {},
     "output_type": "execute_result"
    }
   ],
   "source": [
    "r.json()"
   ]
  }
 ],
 "metadata": {
  "kernelspec": {
   "display_name": "jcop_flask",
   "language": "python",
   "name": "python3"
  },
  "language_info": {
   "codemirror_mode": {
    "name": "ipython",
    "version": 3
   },
   "file_extension": ".py",
   "mimetype": "text/x-python",
   "name": "python",
   "nbconvert_exporter": "python",
   "pygments_lexer": "ipython3",
   "version": "3.9.10"
  }
 },
 "nbformat": 4,
 "nbformat_minor": 2
}
