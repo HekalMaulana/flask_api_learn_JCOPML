{
 "cells": [
  {
   "cell_type": "code",
   "execution_count": 1,
   "metadata": {},
   "outputs": [],
   "source": [
    "from flask import Flask"
   ]
  },
  {
   "cell_type": "markdown",
   "metadata": {},
   "source": [
    "# Basic Flask API and Routing"
   ]
  },
  {
   "cell_type": "code",
   "execution_count": 2,
   "metadata": {},
   "outputs": [],
   "source": [
    "app = Flask(__name__)"
   ]
  },
  {
   "cell_type": "code",
   "execution_count": 3,
   "metadata": {},
   "outputs": [],
   "source": [
    "@app.route(\"/\")\n",
    "def index():\n",
    "    biodata = {\n",
    "        \"nama\":\"Muhammad Hekal Maulana\",\n",
    "        \"umur\":19\n",
    "    }\n",
    "    return biodata"
   ]
  },
  {
   "cell_type": "code",
   "execution_count": 4,
   "metadata": {},
   "outputs": [],
   "source": [
    "@app.route(\"/submit\", methods=[\"POST\"])\n",
    "def submit():\n",
    "    return \"Percobaan POST Request\""
   ]
  },
  {
   "cell_type": "code",
   "execution_count": 5,
   "metadata": {},
   "outputs": [
    {
     "name": "stdout",
     "output_type": "stream",
     "text": [
      " * Serving Flask app '__main__'\n",
      " * Debug mode: off\n"
     ]
    },
    {
     "name": "stderr",
     "output_type": "stream",
     "text": [
      "WARNING: This is a development server. Do not use it in a production deployment. Use a production WSGI server instead.\n",
      " * Running on all addresses (0.0.0.0)\n",
      " * Running on http://127.0.0.1:5000\n",
      " * Running on http://192.168.1.12:5000\n",
      "Press CTRL+C to quit\n",
      "192.168.1.12 - - [24/Jun/2024 18:11:52] \"GET / HTTP/1.1\" 200 -\n",
      "127.0.0.1 - - [24/Jun/2024 18:12:54] \"GET / HTTP/1.1\" 200 -\n",
      "127.0.0.1 - - [24/Jun/2024 18:13:31] \"GET / HTTP/1.1\" 200 -\n"
     ]
    }
   ],
   "source": [
    "app.run(host=\"0.0.0.0\", port=\"5000\")"
   ]
  },
  {
   "cell_type": "markdown",
   "metadata": {},
   "source": [
    "# Write to python Script"
   ]
  },
  {
   "cell_type": "code",
   "execution_count": 6,
   "metadata": {},
   "outputs": [
    {
     "name": "stdout",
     "output_type": "stream",
     "text": [
      "Writing app.py\n"
     ]
    }
   ],
   "source": [
    "%%writefile app.py\n",
    "from flask import Flask\n",
    "\n",
    "app = Flask(__name__)\n",
    "\n",
    "@app.route(\"/\")\n",
    "def index():\n",
    "    biodata = {\n",
    "        \"nama\":\"Muhammad Hekal Maulana\",\n",
    "        \"umur\":19\n",
    "    }\n",
    "    return biodata\n",
    "\n",
    "@app.route(\"/submit\", methods=[\"POST\"])\n",
    "def submit():\n",
    "    return \"Percobaan POST Request\"\n",
    "\n",
    "if __name__ == \"__main__\":\n",
    "    app.run(host=\"0.0.0.0\", port=\"5000\")"
   ]
  },
  {
   "cell_type": "markdown",
   "metadata": {},
   "source": [
    "# Routing Variable"
   ]
  },
  {
   "cell_type": "code",
   "execution_count": 7,
   "metadata": {},
   "outputs": [
    {
     "name": "stdout",
     "output_type": "stream",
     "text": [
      " * Serving Flask app '__main__'\n",
      " * Debug mode: off\n"
     ]
    },
    {
     "name": "stderr",
     "output_type": "stream",
     "text": [
      "WARNING: This is a development server. Do not use it in a production deployment. Use a production WSGI server instead.\n",
      " * Running on http://localhost:5000\n",
      "Press CTRL+C to quit\n",
      "127.0.0.1 - - [24/Jun/2024 20:33:28] \"GET / HTTP/1.1\" 404 -\n",
      "127.0.0.1 - - [24/Jun/2024 20:33:42] \"GET /Hekal HTTP/1.1\" 200 -\n"
     ]
    }
   ],
   "source": [
    "from flask import Flask\n",
    "\n",
    "app = Flask(__name__)\n",
    "\n",
    "@app.route(\"/<nama>\")\n",
    "def index(nama):\n",
    "    return f\"Test Get Request, Hai {nama}\"\n",
    "\n",
    "if __name__ == \"__main__\":\n",
    "    app.run(host=\"localhost\", port=\"5000\")"
   ]
  },
  {
   "cell_type": "markdown",
   "metadata": {},
   "source": [
    "# Rendering Templates"
   ]
  },
  {
   "cell_type": "code",
   "execution_count": 1,
   "metadata": {},
   "outputs": [
    {
     "name": "stdout",
     "output_type": "stream",
     "text": [
      " * Serving Flask app '__main__'\n",
      " * Debug mode: off\n"
     ]
    },
    {
     "name": "stderr",
     "output_type": "stream",
     "text": [
      "WARNING: This is a development server. Do not use it in a production deployment. Use a production WSGI server instead.\n",
      " * Running on http://localhost:5000\n",
      "Press CTRL+C to quit\n",
      "127.0.0.1 - - [24/Jun/2024 20:39:39] \"GET / HTTP/1.1\" 200 -\n",
      "127.0.0.1 - - [24/Jun/2024 20:39:40] \"GET /static/styles.css HTTP/1.1\" 200 -\n",
      "127.0.0.1 - - [24/Jun/2024 20:39:40] \"GET /static/favicon.ico HTTP/1.1\" 200 -\n"
     ]
    }
   ],
   "source": [
    "from flask import Flask, render_template\n",
    "\n",
    "app = Flask(__name__)\n",
    "\n",
    "@app.route(\"/\")\n",
    "def index():\n",
    "    return render_template(\"form.html\")\n",
    "\n",
    "if __name__ == \"__main__\":\n",
    "    app.run(host=\"localhost\", port=\"5000\")"
   ]
  },
  {
   "cell_type": "markdown",
   "metadata": {},
   "source": [
    "# Multiple HTTP Methods"
   ]
  },
  {
   "cell_type": "code",
   "execution_count": 1,
   "metadata": {},
   "outputs": [
    {
     "name": "stdout",
     "output_type": "stream",
     "text": [
      " * Serving Flask app '__main__'\n",
      " * Debug mode: off\n"
     ]
    },
    {
     "name": "stderr",
     "output_type": "stream",
     "text": [
      "WARNING: This is a development server. Do not use it in a production deployment. Use a production WSGI server instead.\n",
      " * Running on http://localhost:5000\n",
      "Press CTRL+C to quit\n",
      "127.0.0.1 - - [24/Jun/2024 20:46:42] \"GET / HTTP/1.1\" 200 -\n",
      "127.0.0.1 - - [24/Jun/2024 20:46:43] \"GET /static/styles.css HTTP/1.1\" 200 -\n",
      "127.0.0.1 - - [24/Jun/2024 20:46:43] \"GET /static/favicon.ico HTTP/1.1\" 200 -\n",
      "127.0.0.1 - - [24/Jun/2024 20:46:49] \"POST / HTTP/1.1\" 200 -\n",
      "127.0.0.1 - - [24/Jun/2024 20:47:44] \"GET / HTTP/1.1\" 200 -\n",
      "127.0.0.1 - - [24/Jun/2024 20:47:44] \"GET /static/styles.css HTTP/1.1\" 200 -\n",
      "127.0.0.1 - - [24/Jun/2024 20:47:44] \"GET /static/favicon.ico HTTP/1.1\" 200 -\n",
      "127.0.0.1 - - [24/Jun/2024 20:47:48] \"POST / HTTP/1.1\" 200 -\n",
      "127.0.0.1 - - [24/Jun/2024 20:47:50] \"GET / HTTP/1.1\" 200 -\n",
      "127.0.0.1 - - [24/Jun/2024 20:47:52] \"POST / HTTP/1.1\" 200 -\n",
      "127.0.0.1 - - [24/Jun/2024 20:47:54] \"GET / HTTP/1.1\" 200 -\n",
      "127.0.0.1 - - [24/Jun/2024 20:47:55] \"POST / HTTP/1.1\" 200 -\n",
      "127.0.0.1 - - [24/Jun/2024 20:47:56] \"GET / HTTP/1.1\" 200 -\n"
     ]
    }
   ],
   "source": [
    "from flask import Flask, render_template, request\n",
    "\n",
    "app = Flask(__name__)\n",
    "\n",
    "@app.route(\"/\", methods=[\"GET\", \"POST\"])\n",
    "def index():\n",
    "    if request.method == \"GET\":\n",
    "        return render_template(\"form.html\")\n",
    "    elif request.method == \"POST\":\n",
    "        return \"Terima kasih\"\n",
    "\n",
    "if __name__ == \"__main__\":\n",
    "    app.run(host=\"localhost\", port=\"5000\")"
   ]
  },
  {
   "cell_type": "markdown",
   "metadata": {},
   "source": [
    "# Extract Request Data"
   ]
  },
  {
   "cell_type": "markdown",
   "metadata": {},
   "source": [
    "## From URL parameters\n",
    "URL Parameters tersimpan didalam `request.args` dan bisa diekstrak layaknya dictionary, tapi sebaiknya menggunakan `.get(key)`.<br/>\n",
    "coba pakai url berikut: `http://localhost:5000?nama=Hekal`"
   ]
  },
  {
   "cell_type": "code",
   "execution_count": 1,
   "metadata": {},
   "outputs": [
    {
     "name": "stdout",
     "output_type": "stream",
     "text": [
      " * Serving Flask app '__main__'\n",
      " * Debug mode: off\n"
     ]
    },
    {
     "name": "stderr",
     "output_type": "stream",
     "text": [
      "WARNING: This is a development server. Do not use it in a production deployment. Use a production WSGI server instead.\n",
      " * Running on http://localhost:5000\n",
      "Press CTRL+C to quit\n",
      "127.0.0.1 - - [24/Jun/2024 20:59:52] \"GET /?nama=Hekal HTTP/1.1\" 200 -\n"
     ]
    },
    {
     "name": "stdout",
     "output_type": "stream",
     "text": [
      "Hekal\n"
     ]
    },
    {
     "name": "stderr",
     "output_type": "stream",
     "text": [
      "127.0.0.1 - - [24/Jun/2024 21:00:00] \"GET / HTTP/1.1\" 400 -\n",
      "127.0.0.1 - - [24/Jun/2024 21:00:03] \"GET / HTTP/1.1\" 400 -\n",
      "127.0.0.1 - - [24/Jun/2024 21:00:13] \"GET / HTTP/1.1\" 400 -\n",
      "127.0.0.1 - - [24/Jun/2024 21:00:18] \"GET / HTTP/1.1\" 400 -\n",
      "127.0.0.1 - - [24/Jun/2024 21:00:24] \"GET /?nama=Hekal HTTP/1.1\" 200 -\n"
     ]
    },
    {
     "name": "stdout",
     "output_type": "stream",
     "text": [
      "Hekal\n"
     ]
    }
   ],
   "source": [
    "from flask import Flask, render_template, request\n",
    "\n",
    "app = Flask(__name__)\n",
    "\n",
    "@app.route(\"/\")\n",
    "def index():\n",
    "    print(request.args[\"nama\"])\n",
    "    nama = request.args.get(\"nama\")\n",
    "    return f\"Hai {nama}, Anda telah berhasil melakukan GET request\"\n",
    "\n",
    "if __name__ == \"__main__\":\n",
    "    app.run(host=\"localhost\", port=\"5000\")"
   ]
  },
  {
   "cell_type": "markdown",
   "metadata": {},
   "source": [
    "## From Form Input\n",
    "informasi form yang disubmit tersimpan di `request.form` dan juga bisa di ekstrak layaknya dictionary. `Key` yang dipakai harus sesuai dengan `form.html`<br><br>\n",
    "untuk `form.html`, key yang digunakan adalah `name` dan `gender`."
   ]
  },
  {
   "cell_type": "code",
   "execution_count": 1,
   "metadata": {},
   "outputs": [
    {
     "name": "stdout",
     "output_type": "stream",
     "text": [
      " * Serving Flask app '__main__'\n",
      " * Debug mode: off\n"
     ]
    },
    {
     "name": "stderr",
     "output_type": "stream",
     "text": [
      "WARNING: This is a development server. Do not use it in a production deployment. Use a production WSGI server instead.\n",
      " * Running on http://localhost:5000\n",
      "Press CTRL+C to quit\n",
      "127.0.0.1 - - [24/Jun/2024 21:06:58] \"GET / HTTP/1.1\" 200 -\n",
      "127.0.0.1 - - [24/Jun/2024 21:06:59] \"GET /static/styles.css HTTP/1.1\" 304 -\n",
      "127.0.0.1 - - [24/Jun/2024 21:07:09] \"POST / HTTP/1.1\" 200 -\n"
     ]
    }
   ],
   "source": [
    "from flask import Flask, render_template, request\n",
    "\n",
    "app = Flask(__name__)\n",
    "\n",
    "@app.route(\"/\", methods=[\"GET\", \"POST\"])\n",
    "def index():\n",
    "    if request.method == \"GET\":\n",
    "        return render_template(\"form.html\")\n",
    "    elif request.method == \"POST\":\n",
    "        nama = request.form.get(\"name\")\n",
    "        gender = request.form.get(\"gender\")\n",
    "        return f\"Hai {nama}, Gendermu adalah {gender}\"\n",
    "\n",
    "if __name__ == \"__main__\":\n",
    "    app.run(host=\"localhost\", port=\"5000\")"
   ]
  },
  {
   "cell_type": "markdown",
   "metadata": {},
   "source": [
    "## From Upload File\n",
    "File yang diupload tersimpan di request.`files` dan juga bisa diekstrak layaknya dictionary. `key` yang dipakai sesuai dengan `name` di `upload.html`<br>\n",
    "Untuk `upload.html`, key yang digunakan adalah `file`."
   ]
  },
  {
   "cell_type": "code",
   "execution_count": null,
   "metadata": {},
   "outputs": [],
   "source": [
    "from flask import Flask, render_template, request\n",
    "\n",
    "app = Flask(__name__)\n",
    "\n",
    "@app.route(\"/\", methods=[\"GET\", \"POST\"])\n",
    "def index():\n",
    "    if request.method == \"GET\":\n",
    "        return render_template(\"upload.html\")\n",
    "    elif request.method == \"POST\":\n",
    "        file = request.files.get(\"file\")\n",
    "        return f\"File Telah disimpan dalam variable bernama file\"\n",
    "\n",
    "if __name__ == \"__main__\":\n",
    "    app.run(host=\"localhost\", port=\"5000\")"
   ]
  }
 ],
 "metadata": {
  "kernelspec": {
   "display_name": "jcop_flask",
   "language": "python",
   "name": "python3"
  },
  "language_info": {
   "codemirror_mode": {
    "name": "ipython",
    "version": 3
   },
   "file_extension": ".py",
   "mimetype": "text/x-python",
   "name": "python",
   "nbconvert_exporter": "python",
   "pygments_lexer": "ipython3",
   "version": "3.9.10"
  }
 },
 "nbformat": 4,
 "nbformat_minor": 2
}
