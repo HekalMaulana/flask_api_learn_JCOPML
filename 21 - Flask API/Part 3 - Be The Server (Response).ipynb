{
 "cells": [
  {
   "cell_type": "code",
   "execution_count": 1,
   "metadata": {},
   "outputs": [],
   "source": [
    "from flask import Flask"
   ]
  },
  {
   "cell_type": "markdown",
   "metadata": {},
   "source": [
    "# Basic Flask API and Routing"
   ]
  },
  {
   "cell_type": "code",
   "execution_count": 2,
   "metadata": {},
   "outputs": [],
   "source": [
    "app = Flask(__name__)"
   ]
  },
  {
   "cell_type": "code",
   "execution_count": 3,
   "metadata": {},
   "outputs": [],
   "source": [
    "@app.route(\"/\")\n",
    "def index():\n",
    "    biodata = {\n",
    "        \"nama\":\"Muhammad Hekal Maulana\",\n",
    "        \"umur\":19\n",
    "    }\n",
    "    return biodata"
   ]
  },
  {
   "cell_type": "code",
   "execution_count": 4,
   "metadata": {},
   "outputs": [],
   "source": [
    "@app.route(\"/submit\", methods=[\"POST\"])\n",
    "def submit():\n",
    "    return \"Percobaan POST Request\""
   ]
  },
  {
   "cell_type": "code",
   "execution_count": 5,
   "metadata": {},
   "outputs": [
    {
     "name": "stdout",
     "output_type": "stream",
     "text": [
      " * Serving Flask app '__main__'\n",
      " * Debug mode: off\n"
     ]
    },
    {
     "name": "stderr",
     "output_type": "stream",
     "text": [
      "WARNING: This is a development server. Do not use it in a production deployment. Use a production WSGI server instead.\n",
      " * Running on all addresses (0.0.0.0)\n",
      " * Running on http://127.0.0.1:5000\n",
      " * Running on http://192.168.1.12:5000\n",
      "Press CTRL+C to quit\n",
      "192.168.1.12 - - [24/Jun/2024 18:11:52] \"GET / HTTP/1.1\" 200 -\n",
      "127.0.0.1 - - [24/Jun/2024 18:12:54] \"GET / HTTP/1.1\" 200 -\n",
      "127.0.0.1 - - [24/Jun/2024 18:13:31] \"GET / HTTP/1.1\" 200 -\n"
     ]
    }
   ],
   "source": [
    "app.run(host=\"0.0.0.0\", port=\"5000\")"
   ]
  },
  {
   "cell_type": "markdown",
   "metadata": {},
   "source": [
    "# Experiment 1: GET Request\n",
    "- Lakukan di Notebook Baru"
   ]
  }
 ],
 "metadata": {
  "kernelspec": {
   "display_name": "jcop_flask",
   "language": "python",
   "name": "python3"
  },
  "language_info": {
   "codemirror_mode": {
    "name": "ipython",
    "version": 3
   },
   "file_extension": ".py",
   "mimetype": "text/x-python",
   "name": "python",
   "nbconvert_exporter": "python",
   "pygments_lexer": "ipython3",
   "version": "3.9.10"
  }
 },
 "nbformat": 4,
 "nbformat_minor": 2
}
